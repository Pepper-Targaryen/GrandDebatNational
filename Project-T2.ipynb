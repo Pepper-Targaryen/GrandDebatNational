{
 "cells": [
  {
   "cell_type": "markdown",
   "metadata": {},
   "source": [
    "# Project of SD-TSIA210"
   ]
  },
  {
   "cell_type": "markdown",
   "metadata": {},
   "source": [
    "## Step 1 - Clustering, Dimension Reduction, Interpretation"
   ]
  },
  {
   "cell_type": "markdown",
   "metadata": {},
   "source": [
    "### 1. Load data"
   ]
  },
  {
   "cell_type": "code",
   "execution_count": 2,
   "metadata": {},
   "outputs": [],
   "source": [
    "import pandas as pd\n",
    "import numpy as np\n",
    "import matplotlib.pyplot as plt\n",
    "\n",
    "# To plot pretty figures\n",
    "%matplotlib inline\n",
    "import matplotlib as mpl\n",
    "import matplotlib.pyplot as plt\n",
    "mpl.rc('axes', labelsize=14)\n",
    "mpl.rc('xtick', labelsize=12)\n",
    "mpl.rc('ytick', labelsize=12)\n",
    "\n",
    "# Ignore useless warnings (see SciPy issue #5998)\n",
    "import warnings\n",
    "warnings.filterwarnings(action=\"ignore\", message=\"^internal gelsd\")\n",
    "def read_data(filename: str):\n",
    "    df = pd.read_csv(filename)\n",
    "    return df"
   ]
  },
  {
   "cell_type": "code",
   "execution_count": 3,
   "metadata": {
    "scrolled": true
   },
   "outputs": [
    {
     "data": {
      "text/html": [
       "<div>\n",
       "<style scoped>\n",
       "    .dataframe tbody tr th:only-of-type {\n",
       "        vertical-align: middle;\n",
       "    }\n",
       "\n",
       "    .dataframe tbody tr th {\n",
       "        vertical-align: top;\n",
       "    }\n",
       "\n",
       "    .dataframe thead th {\n",
       "        text-align: right;\n",
       "    }\n",
       "</style>\n",
       "<table border=\"1\" class=\"dataframe\">\n",
       "  <thead>\n",
       "    <tr style=\"text-align: right;\">\n",
       "      <th></th>\n",
       "      <th>id</th>\n",
       "      <th>title</th>\n",
       "      <th>createdAt</th>\n",
       "      <th>updatedAt</th>\n",
       "      <th>startAt</th>\n",
       "      <th>endAt</th>\n",
       "      <th>enabled</th>\n",
       "      <th>lat</th>\n",
       "      <th>lng</th>\n",
       "      <th>fullAddress</th>\n",
       "      <th>link</th>\n",
       "      <th>url</th>\n",
       "      <th>body</th>\n",
       "      <th>authorId</th>\n",
       "      <th>authorType</th>\n",
       "      <th>authorZipCode</th>\n",
       "    </tr>\n",
       "  </thead>\n",
       "  <tbody>\n",
       "    <tr>\n",
       "      <th>0</th>\n",
       "      <td>RXZlbnQ6MTc1NjE2ZDYtMWE2My0xMWU5LTk0ZDItZmExNj...</td>\n",
       "      <td>Réunion à la participation citoyenne pour le G...</td>\n",
       "      <td>2019-01-17 15:20:50</td>\n",
       "      <td>2019-02-25 17:07:49</td>\n",
       "      <td>2019-03-02 18:30:00</td>\n",
       "      <td>2019-03-02 23:00:00</td>\n",
       "      <td>True</td>\n",
       "      <td>43.620069</td>\n",
       "      <td>1.470152</td>\n",
       "      <td>Maison de la Citoyenneté de Toulouse Est, Quar...</td>\n",
       "      <td>NaN</td>\n",
       "      <td>https://granddebat.fr/events/reunion-a-la-part...</td>\n",
       "      <td>&lt;p&gt;&lt;em&gt;L’exactitude des informations ci-dessou...</td>\n",
       "      <td>VXNlcjo1MjY0ZDRhMi0xOTkxLTExZTktOTRkMi1mYTE2M2...</td>\n",
       "      <td>Élu / élue et Institution</td>\n",
       "      <td>31500</td>\n",
       "    </tr>\n",
       "    <tr>\n",
       "      <th>1</th>\n",
       "      <td>RXZlbnQ6MTc1NzUzMjUtMmJhMi0xMWU5LWJmNTYtZmExNj...</td>\n",
       "      <td>Grand débat des entreprises</td>\n",
       "      <td>2019-02-08 14:04:38</td>\n",
       "      <td>2019-02-08 14:04:38</td>\n",
       "      <td>2019-03-04 18:30:00</td>\n",
       "      <td>2019-03-04 22:00:00</td>\n",
       "      <td>True</td>\n",
       "      <td>44.988127</td>\n",
       "      <td>4.976960</td>\n",
       "      <td>1, rue Marc Seguin, 26300 ALIXAN</td>\n",
       "      <td>NaN</td>\n",
       "      <td>https://granddebat.fr/events/grand-debat-des-e...</td>\n",
       "      <td>“&lt;i&gt;L’exactitude des informations ci-dessous r...</td>\n",
       "      <td>VXNlcjpiYjc3NDFkOC0yYWRiLTExZTktOTRkMi1mYTE2M2...</td>\n",
       "      <td>Élu / élue et Institution</td>\n",
       "      <td>26000</td>\n",
       "    </tr>\n",
       "    <tr>\n",
       "      <th>2</th>\n",
       "      <td>RXZlbnQ6MTc1OTk3MzYtMmY3ZC0xMWU5LWJmNTYtZmExNj...</td>\n",
       "      <td>Club du 3ème âge</td>\n",
       "      <td>2019-02-13 11:49:52</td>\n",
       "      <td>2019-02-13 11:49:51</td>\n",
       "      <td>2019-02-22 14:00:00</td>\n",
       "      <td>2019-02-22 17:30:00</td>\n",
       "      <td>True</td>\n",
       "      <td>49.211872</td>\n",
       "      <td>-0.378057</td>\n",
       "      <td>Maison de Quartier, Place Dom Aubourg, 14000 CAEN</td>\n",
       "      <td>NaN</td>\n",
       "      <td>https://granddebat.fr/events/club-du-3eme-age</td>\n",
       "      <td>“&lt;i&gt;L’exactitude des informations ci-dessous r...</td>\n",
       "      <td>VXNlcjo2Y2NhNzhhOC0yZWE1LTExZTktYmY1Ni1mYTE2M2...</td>\n",
       "      <td>Organisation à but non lucratif</td>\n",
       "      <td>14000</td>\n",
       "    </tr>\n",
       "    <tr>\n",
       "      <th>3</th>\n",
       "      <td>RXZlbnQ6MTc1Y2E2YmMtMzQzOC0xMWU5LWJmNTYtZmExNj...</td>\n",
       "      <td>Grand débat national GAGNY</td>\n",
       "      <td>2019-02-19 12:18:32</td>\n",
       "      <td>2019-02-19 12:18:32</td>\n",
       "      <td>2019-02-25 19:00:00</td>\n",
       "      <td>2019-02-25 21:00:00</td>\n",
       "      <td>True</td>\n",
       "      <td>48.894931</td>\n",
       "      <td>2.538318</td>\n",
       "      <td>Club Paul Éluard, 18 bis allée des Chênes, 932...</td>\n",
       "      <td>NaN</td>\n",
       "      <td>https://granddebat.fr/events/grand-debat-natio...</td>\n",
       "      <td>“&lt;i&gt;L’exactitude des informations ci-dessous r...</td>\n",
       "      <td>VXNlcjo4NmI2NzQ4OS0xYmNjLTExZTktOTRkMi1mYTE2M2...</td>\n",
       "      <td>Organisation à but non lucratif</td>\n",
       "      <td>93220</td>\n",
       "    </tr>\n",
       "    <tr>\n",
       "      <th>4</th>\n",
       "      <td>RXZlbnQ6MTc2NTVjZjYtMmJhMi0xMWU5LWJmNTYtZmExNj...</td>\n",
       "      <td>débat sur l'organisation de l'Etat et des serv...</td>\n",
       "      <td>2019-02-08 14:04:38</td>\n",
       "      <td>2019-02-08 14:04:38</td>\n",
       "      <td>2019-03-05 20:00:00</td>\n",
       "      <td>2019-03-05 22:00:00</td>\n",
       "      <td>True</td>\n",
       "      <td>47.122187</td>\n",
       "      <td>6.197913</td>\n",
       "      <td>à la mairie de Saules, 25580 Saules</td>\n",
       "      <td>NaN</td>\n",
       "      <td>https://granddebat.fr/events/debat-sur-lorgani...</td>\n",
       "      <td>“&lt;i&gt;L’exactitude des informations ci-dessous r...</td>\n",
       "      <td>VXNlcjo0Y2I5MDc2ZS0yYWU1LTExZTktOTRkMi1mYTE2M2...</td>\n",
       "      <td>Élu / élue et Institution</td>\n",
       "      <td>25580</td>\n",
       "    </tr>\n",
       "  </tbody>\n",
       "</table>\n",
       "</div>"
      ],
      "text/plain": [
       "                                                  id  \\\n",
       "0  RXZlbnQ6MTc1NjE2ZDYtMWE2My0xMWU5LTk0ZDItZmExNj...   \n",
       "1  RXZlbnQ6MTc1NzUzMjUtMmJhMi0xMWU5LWJmNTYtZmExNj...   \n",
       "2  RXZlbnQ6MTc1OTk3MzYtMmY3ZC0xMWU5LWJmNTYtZmExNj...   \n",
       "3  RXZlbnQ6MTc1Y2E2YmMtMzQzOC0xMWU5LWJmNTYtZmExNj...   \n",
       "4  RXZlbnQ6MTc2NTVjZjYtMmJhMi0xMWU5LWJmNTYtZmExNj...   \n",
       "\n",
       "                                               title            createdAt  \\\n",
       "0  Réunion à la participation citoyenne pour le G...  2019-01-17 15:20:50   \n",
       "1                        Grand débat des entreprises  2019-02-08 14:04:38   \n",
       "2                                   Club du 3ème âge  2019-02-13 11:49:52   \n",
       "3                         Grand débat national GAGNY  2019-02-19 12:18:32   \n",
       "4  débat sur l'organisation de l'Etat et des serv...  2019-02-08 14:04:38   \n",
       "\n",
       "             updatedAt              startAt                endAt  enabled  \\\n",
       "0  2019-02-25 17:07:49  2019-03-02 18:30:00  2019-03-02 23:00:00     True   \n",
       "1  2019-02-08 14:04:38  2019-03-04 18:30:00  2019-03-04 22:00:00     True   \n",
       "2  2019-02-13 11:49:51  2019-02-22 14:00:00  2019-02-22 17:30:00     True   \n",
       "3  2019-02-19 12:18:32  2019-02-25 19:00:00  2019-02-25 21:00:00     True   \n",
       "4  2019-02-08 14:04:38  2019-03-05 20:00:00  2019-03-05 22:00:00     True   \n",
       "\n",
       "         lat       lng                                        fullAddress  \\\n",
       "0  43.620069  1.470152  Maison de la Citoyenneté de Toulouse Est, Quar...   \n",
       "1  44.988127  4.976960                   1, rue Marc Seguin, 26300 ALIXAN   \n",
       "2  49.211872 -0.378057  Maison de Quartier, Place Dom Aubourg, 14000 CAEN   \n",
       "3  48.894931  2.538318  Club Paul Éluard, 18 bis allée des Chênes, 932...   \n",
       "4  47.122187  6.197913                à la mairie de Saules, 25580 Saules   \n",
       "\n",
       "  link                                                url  \\\n",
       "0  NaN  https://granddebat.fr/events/reunion-a-la-part...   \n",
       "1  NaN  https://granddebat.fr/events/grand-debat-des-e...   \n",
       "2  NaN      https://granddebat.fr/events/club-du-3eme-age   \n",
       "3  NaN  https://granddebat.fr/events/grand-debat-natio...   \n",
       "4  NaN  https://granddebat.fr/events/debat-sur-lorgani...   \n",
       "\n",
       "                                                body  \\\n",
       "0  <p><em>L’exactitude des informations ci-dessou...   \n",
       "1  “<i>L’exactitude des informations ci-dessous r...   \n",
       "2  “<i>L’exactitude des informations ci-dessous r...   \n",
       "3  “<i>L’exactitude des informations ci-dessous r...   \n",
       "4  “<i>L’exactitude des informations ci-dessous r...   \n",
       "\n",
       "                                            authorId  \\\n",
       "0  VXNlcjo1MjY0ZDRhMi0xOTkxLTExZTktOTRkMi1mYTE2M2...   \n",
       "1  VXNlcjpiYjc3NDFkOC0yYWRiLTExZTktOTRkMi1mYTE2M2...   \n",
       "2  VXNlcjo2Y2NhNzhhOC0yZWE1LTExZTktYmY1Ni1mYTE2M2...   \n",
       "3  VXNlcjo4NmI2NzQ4OS0xYmNjLTExZTktOTRkMi1mYTE2M2...   \n",
       "4  VXNlcjo0Y2I5MDc2ZS0yYWU1LTExZTktOTRkMi1mYTE2M2...   \n",
       "\n",
       "                        authorType  authorZipCode  \n",
       "0        Élu / élue et Institution          31500  \n",
       "1        Élu / élue et Institution          26000  \n",
       "2  Organisation à but non lucratif          14000  \n",
       "3  Organisation à but non lucratif          93220  \n",
       "4        Élu / élue et Institution          25580  "
      ]
     },
     "execution_count": 3,
     "metadata": {},
     "output_type": "execute_result"
    }
   ],
   "source": [
    "events = read_data(\"data/EVENTS.csv\")\n",
    "# to see first 5 lines\n",
    "events.head(5)"
   ]
  },
  {
   "cell_type": "code",
   "execution_count": 4,
   "metadata": {},
   "outputs": [
    {
     "name": "stdout",
     "output_type": "stream",
     "text": [
      "<class 'pandas.core.frame.DataFrame'>\n",
      "RangeIndex: 9975 entries, 0 to 9974\n",
      "Data columns (total 16 columns):\n",
      "id               9975 non-null object\n",
      "title            9975 non-null object\n",
      "createdAt        9975 non-null object\n",
      "updatedAt        9975 non-null object\n",
      "startAt          9975 non-null object\n",
      "endAt            9138 non-null object\n",
      "enabled          9975 non-null bool\n",
      "lat              9918 non-null float64\n",
      "lng              9918 non-null float64\n",
      "fullAddress      9969 non-null object\n",
      "link             534 non-null object\n",
      "url              9975 non-null object\n",
      "body             9973 non-null object\n",
      "authorId         9975 non-null object\n",
      "authorType       8426 non-null object\n",
      "authorZipCode    9975 non-null int64\n",
      "dtypes: bool(1), float64(2), int64(1), object(12)\n",
      "memory usage: 1.2+ MB\n"
     ]
    }
   ],
   "source": [
    "events.info()"
   ]
  },
  {
   "cell_type": "code",
   "execution_count": 21,
   "metadata": {},
   "outputs": [
    {
     "data": {
      "text/plain": [
       "Élu / élue et Institution          4249\n",
       "Citoyen / Citoyenne                2510\n",
       "Organisation à but non lucratif    1550\n",
       "Organisation à but lucratif         117\n",
       "Name: authorType, dtype: int64"
      ]
     },
     "execution_count": 21,
     "metadata": {},
     "output_type": "execute_result"
    }
   ],
   "source": [
    "events[\"authorType\"].value_counts()"
   ]
  },
  {
   "cell_type": "code",
   "execution_count": 7,
   "metadata": {
    "scrolled": true
   },
   "outputs": [
    {
     "data": {
      "text/html": [
       "<div>\n",
       "<style scoped>\n",
       "    .dataframe tbody tr th:only-of-type {\n",
       "        vertical-align: middle;\n",
       "    }\n",
       "\n",
       "    .dataframe tbody tr th {\n",
       "        vertical-align: top;\n",
       "    }\n",
       "\n",
       "    .dataframe thead th {\n",
       "        text-align: right;\n",
       "    }\n",
       "</style>\n",
       "<table border=\"1\" class=\"dataframe\">\n",
       "  <thead>\n",
       "    <tr style=\"text-align: right;\">\n",
       "      <th></th>\n",
       "      <th>lat</th>\n",
       "      <th>lng</th>\n",
       "      <th>authorZipCode</th>\n",
       "    </tr>\n",
       "  </thead>\n",
       "  <tbody>\n",
       "    <tr>\n",
       "      <th>count</th>\n",
       "      <td>9918.000000</td>\n",
       "      <td>9918.000000</td>\n",
       "      <td>9.975000e+03</td>\n",
       "    </tr>\n",
       "    <tr>\n",
       "      <th>mean</th>\n",
       "      <td>46.111469</td>\n",
       "      <td>2.593467</td>\n",
       "      <td>5.431675e+04</td>\n",
       "    </tr>\n",
       "    <tr>\n",
       "      <th>std</th>\n",
       "      <td>6.826882</td>\n",
       "      <td>13.148875</td>\n",
       "      <td>8.333880e+04</td>\n",
       "    </tr>\n",
       "    <tr>\n",
       "      <th>min</th>\n",
       "      <td>-37.840477</td>\n",
       "      <td>-149.304113</td>\n",
       "      <td>0.000000e+00</td>\n",
       "    </tr>\n",
       "    <tr>\n",
       "      <th>25%</th>\n",
       "      <td>44.885970</td>\n",
       "      <td>0.743142</td>\n",
       "      <td>3.013100e+04</td>\n",
       "    </tr>\n",
       "    <tr>\n",
       "      <th>50%</th>\n",
       "      <td>47.362830</td>\n",
       "      <td>2.398454</td>\n",
       "      <td>5.500000e+04</td>\n",
       "    </tr>\n",
       "    <tr>\n",
       "      <th>75%</th>\n",
       "      <td>48.829407</td>\n",
       "      <td>4.835877</td>\n",
       "      <td>7.501400e+04</td>\n",
       "    </tr>\n",
       "    <tr>\n",
       "      <th>max</th>\n",
       "      <td>64.146778</td>\n",
       "      <td>174.771111</td>\n",
       "      <td>6.209301e+06</td>\n",
       "    </tr>\n",
       "  </tbody>\n",
       "</table>\n",
       "</div>"
      ],
      "text/plain": [
       "               lat          lng  authorZipCode\n",
       "count  9918.000000  9918.000000   9.975000e+03\n",
       "mean     46.111469     2.593467   5.431675e+04\n",
       "std       6.826882    13.148875   8.333880e+04\n",
       "min     -37.840477  -149.304113   0.000000e+00\n",
       "25%      44.885970     0.743142   3.013100e+04\n",
       "50%      47.362830     2.398454   5.500000e+04\n",
       "75%      48.829407     4.835877   7.501400e+04\n",
       "max      64.146778   174.771111   6.209301e+06"
      ]
     },
     "execution_count": 7,
     "metadata": {},
     "output_type": "execute_result"
    }
   ],
   "source": [
    "events[[\"lat\", \"lng\", \"authorZipCode\"]].describe()"
   ]
  },
  {
   "cell_type": "markdown",
   "metadata": {},
   "source": [
    "### 2. Visualisation of data"
   ]
  },
  {
   "cell_type": "code",
   "execution_count": 17,
   "metadata": {},
   "outputs": [
    {
     "data": {
      "text/plain": [
       "<matplotlib.axes._subplots.AxesSubplot at 0x7fc33cceccc0>"
      ]
     },
     "execution_count": 17,
     "metadata": {},
     "output_type": "execute_result"
    },
    {
     "data": {
      "image/png": "[encoded data removed]",
      "text/plain": [
       "<Figure size 432x288 with 1 Axes>"
      ]
     },
     "metadata": {
      "needs_background": "light"
     },
     "output_type": "display_data"
    }
   ],
   "source": [
    "events.plot(kind=\"scatter\", x=\"lng\", y=\"lat\", alpha=0.2)"
   ]
  },
  {
   "cell_type": "code",
   "execution_count": 19,
   "metadata": {
    "scrolled": true
   },
   "outputs": [
    {
     "data": {
      "image/png": "[encoded data removed]",
      "text/plain": [
       "<Figure size 432x288 with 1 Axes>"
      ]
     },
     "metadata": {
      "needs_background": "light"
     },
     "output_type": "display_data"
    }
   ],
   "source": [
    "# drop bad values of zip codes \n",
    "events_zip_code = events [ (events[\"authorZipCode\"] < 100000) & ( events[\"authorZipCode\"] > 1000)]\n",
    "plt.hist(events_zip_code[\"authorZipCode\"])\n",
    "plt.title(\"Histogram of Zip Code\") \n",
    "plt.show()"
   ]
  },
  {
   "cell_type": "code",
   "execution_count": 23,
   "metadata": {},
   "outputs": [
    {
     "data": {
      "image/png": "[encoded data removed]",
      "text/plain": [
       "<Figure size 432x288 with 1 Axes>"
      ]
     },
     "metadata": {
      "needs_background": "light"
     },
     "output_type": "display_data"
    }
   ],
   "source": [
    "from collections import Counter\n",
    "events_no_nan_authorType = events.dropna(subset=[\"authorType\"]) \n",
    "authorType_counts = Counter(events_no_nan_authorType[\"authorType\"])\n",
    "df_authorType = pd.DataFrame.from_dict(authorType_counts, orient='index')\n",
    "df_authorType.plot(kind='bar')\n",
    "plt.title(\"Author Type\")\n",
    "plt.show()"
   ]
  },
  {
   "cell_type": "markdown",
   "metadata": {},
   "source": [
    "### 3. Drop columns"
   ]
  },
  {
   "cell_type": "code",
   "execution_count": 4,
   "metadata": {
    "scrolled": true
   },
   "outputs": [
    {
     "data": {
      "text/html": [
       "<div>\n",
       "<style scoped>\n",
       "    .dataframe tbody tr th:only-of-type {\n",
       "        vertical-align: middle;\n",
       "    }\n",
       "\n",
       "    .dataframe tbody tr th {\n",
       "        vertical-align: top;\n",
       "    }\n",
       "\n",
       "    .dataframe thead th {\n",
       "        text-align: right;\n",
       "    }\n",
       "</style>\n",
       "<table border=\"1\" class=\"dataframe\">\n",
       "  <thead>\n",
       "    <tr style=\"text-align: right;\">\n",
       "      <th></th>\n",
       "      <th>title</th>\n",
       "      <th>createdAt</th>\n",
       "      <th>updatedAt</th>\n",
       "      <th>startAt</th>\n",
       "      <th>endAt</th>\n",
       "      <th>lat</th>\n",
       "      <th>lng</th>\n",
       "      <th>authorType</th>\n",
       "      <th>authorZipCode</th>\n",
       "    </tr>\n",
       "  </thead>\n",
       "  <tbody>\n",
       "    <tr>\n",
       "      <th>0</th>\n",
       "      <td>Réunion à la participation citoyenne pour le G...</td>\n",
       "      <td>2019-01-17 15:20:50</td>\n",
       "      <td>2019-02-25 17:07:49</td>\n",
       "      <td>2019-03-02 18:30:00</td>\n",
       "      <td>2019-03-02 23:00:00</td>\n",
       "      <td>43.620069</td>\n",
       "      <td>1.470152</td>\n",
       "      <td>Élu / élue et Institution</td>\n",
       "      <td>31500</td>\n",
       "    </tr>\n",
       "    <tr>\n",
       "      <th>1</th>\n",
       "      <td>Grand débat des entreprises</td>\n",
       "      <td>2019-02-08 14:04:38</td>\n",
       "      <td>2019-02-08 14:04:38</td>\n",
       "      <td>2019-03-04 18:30:00</td>\n",
       "      <td>2019-03-04 22:00:00</td>\n",
       "      <td>44.988127</td>\n",
       "      <td>4.976960</td>\n",
       "      <td>Élu / élue et Institution</td>\n",
       "      <td>26000</td>\n",
       "    </tr>\n",
       "    <tr>\n",
       "      <th>2</th>\n",
       "      <td>Club du 3ème âge</td>\n",
       "      <td>2019-02-13 11:49:52</td>\n",
       "      <td>2019-02-13 11:49:51</td>\n",
       "      <td>2019-02-22 14:00:00</td>\n",
       "      <td>2019-02-22 17:30:00</td>\n",
       "      <td>49.211872</td>\n",
       "      <td>-0.378057</td>\n",
       "      <td>Organisation à but non lucratif</td>\n",
       "      <td>14000</td>\n",
       "    </tr>\n",
       "    <tr>\n",
       "      <th>3</th>\n",
       "      <td>Grand débat national GAGNY</td>\n",
       "      <td>2019-02-19 12:18:32</td>\n",
       "      <td>2019-02-19 12:18:32</td>\n",
       "      <td>2019-02-25 19:00:00</td>\n",
       "      <td>2019-02-25 21:00:00</td>\n",
       "      <td>48.894931</td>\n",
       "      <td>2.538318</td>\n",
       "      <td>Organisation à but non lucratif</td>\n",
       "      <td>93220</td>\n",
       "    </tr>\n",
       "    <tr>\n",
       "      <th>4</th>\n",
       "      <td>débat sur l'organisation de l'Etat et des serv...</td>\n",
       "      <td>2019-02-08 14:04:38</td>\n",
       "      <td>2019-02-08 14:04:38</td>\n",
       "      <td>2019-03-05 20:00:00</td>\n",
       "      <td>2019-03-05 22:00:00</td>\n",
       "      <td>47.122187</td>\n",
       "      <td>6.197913</td>\n",
       "      <td>Élu / élue et Institution</td>\n",
       "      <td>25580</td>\n",
       "    </tr>\n",
       "  </tbody>\n",
       "</table>\n",
       "</div>"
      ],
      "text/plain": [
       "                                               title            createdAt  \\\n",
       "0  Réunion à la participation citoyenne pour le G...  2019-01-17 15:20:50   \n",
       "1                        Grand débat des entreprises  2019-02-08 14:04:38   \n",
       "2                                   Club du 3ème âge  2019-02-13 11:49:52   \n",
       "3                         Grand débat national GAGNY  2019-02-19 12:18:32   \n",
       "4  débat sur l'organisation de l'Etat et des serv...  2019-02-08 14:04:38   \n",
       "\n",
       "             updatedAt              startAt                endAt        lat  \\\n",
       "0  2019-02-25 17:07:49  2019-03-02 18:30:00  2019-03-02 23:00:00  43.620069   \n",
       "1  2019-02-08 14:04:38  2019-03-04 18:30:00  2019-03-04 22:00:00  44.988127   \n",
       "2  2019-02-13 11:49:51  2019-02-22 14:00:00  2019-02-22 17:30:00  49.211872   \n",
       "3  2019-02-19 12:18:32  2019-02-25 19:00:00  2019-02-25 21:00:00  48.894931   \n",
       "4  2019-02-08 14:04:38  2019-03-05 20:00:00  2019-03-05 22:00:00  47.122187   \n",
       "\n",
       "        lng                       authorType  authorZipCode  \n",
       "0  1.470152        Élu / élue et Institution          31500  \n",
       "1  4.976960        Élu / élue et Institution          26000  \n",
       "2 -0.378057  Organisation à but non lucratif          14000  \n",
       "3  2.538318  Organisation à but non lucratif          93220  \n",
       "4  6.197913        Élu / élue et Institution          25580  "
      ]
     },
     "execution_count": 4,
     "metadata": {},
     "output_type": "execute_result"
    }
   ],
   "source": [
    "# useless features\n",
    "events_new = events.drop([\"id\", \"enabled\", \"link\", \"url\", \"body\", \"authorId\", \"fullAddress\"], axis=1) # drop labels for training set\n",
    "# drop bad zip code\n",
    "events_new = events_new [ (events_new[\"authorZipCode\"] < 100000) & ( events_new[\"authorZipCode\"] > 1000)]\n",
    "events_new.head()"
   ]
  },
  {
   "cell_type": "markdown",
   "metadata": {},
   "source": [
    "### 4. Transformation of data"
   ]
  },
  {
   "cell_type": "code",
   "execution_count": null,
   "metadata": {},
   "outputs": [],
   "source": [
    "# transform date\n",
    "# add duration"
   ]
  },
  {
   "cell_type": "code",
   "execution_count": 5,
   "metadata": {},
   "outputs": [],
   "source": [
    "events_new = events_new.dropna(subset=[\"createdAt\", \"updatedAt\", \"startAt\", \"endAt\"])"
   ]
  },
  {
   "cell_type": "code",
   "execution_count": 6,
   "metadata": {},
   "outputs": [],
   "source": [
    "# transform the date to timestamp\n",
    "events_new[\"createdAt\"] = pd.to_datetime(events_new[\"createdAt\"])\n",
    "first_time = events_new[\"createdAt\"].min()\n",
    "events_new[\"createdAt\"] = (events_new[\"createdAt\"] - first_time)  / np.timedelta64(1,'s')\n",
    "\n",
    "events_new[\"updatedAt\"] = pd.to_datetime(events_new[\"updatedAt\"])    \n",
    "events_new[\"updatedAt\"] = (events_new[\"updatedAt\"] - first_time)  / np.timedelta64(1,'s')\n",
    "\n",
    "events_new[\"startAt\"] = pd.to_datetime(events_new[\"startAt\"])    \n",
    "events_new[\"startAt\"] = (events_new[\"startAt\"] - first_time)  / np.timedelta64(1,'s')\n",
    "\n",
    "events_new[\"endAt\"] = pd.to_datetime(events_new[\"endAt\"])    \n",
    "events_new[\"endAt\"] = (events_new[\"endAt\"] - first_time)  / np.timedelta64(1,'s')"
   ]
  },
  {
   "cell_type": "code",
   "execution_count": 7,
   "metadata": {},
   "outputs": [],
   "source": [
    "# add duration to the data set\n",
    "events_new[\"duration\"] = events_new[\"endAt\"] - events_new[\"startAt\"]"
   ]
  },
  {
   "cell_type": "code",
   "execution_count": 59,
   "metadata": {},
   "outputs": [
    {
     "data": {
      "text/html": [
       "<div>\n",
       "<style scoped>\n",
       "    .dataframe tbody tr th:only-of-type {\n",
       "        vertical-align: middle;\n",
       "    }\n",
       "\n",
       "    .dataframe tbody tr th {\n",
       "        vertical-align: top;\n",
       "    }\n",
       "\n",
       "    .dataframe thead th {\n",
       "        text-align: right;\n",
       "    }\n",
       "</style>\n",
       "<table border=\"1\" class=\"dataframe\">\n",
       "  <thead>\n",
       "    <tr style=\"text-align: right;\">\n",
       "      <th></th>\n",
       "      <th>title</th>\n",
       "      <th>createdAt</th>\n",
       "      <th>updatedAt</th>\n",
       "      <th>startAt</th>\n",
       "      <th>endAt</th>\n",
       "      <th>lat</th>\n",
       "      <th>lng</th>\n",
       "      <th>authorType</th>\n",
       "      <th>authorZipCode</th>\n",
       "      <th>duration</th>\n",
       "    </tr>\n",
       "  </thead>\n",
       "  <tbody>\n",
       "    <tr>\n",
       "      <th>0</th>\n",
       "      <td>Réunion à la participation citoyenne pour le G...</td>\n",
       "      <td>140384.0</td>\n",
       "      <td>3516403.0</td>\n",
       "      <td>3953334.0</td>\n",
       "      <td>3969534.0</td>\n",
       "      <td>43.620069</td>\n",
       "      <td>1.470152</td>\n",
       "      <td>Élu / élue et Institution</td>\n",
       "      <td>31500</td>\n",
       "      <td>16200.0</td>\n",
       "    </tr>\n",
       "    <tr>\n",
       "      <th>1</th>\n",
       "      <td>Grand débat des entreprises</td>\n",
       "      <td>2036612.0</td>\n",
       "      <td>2036612.0</td>\n",
       "      <td>4126134.0</td>\n",
       "      <td>4138734.0</td>\n",
       "      <td>44.988127</td>\n",
       "      <td>4.976960</td>\n",
       "      <td>Élu / élue et Institution</td>\n",
       "      <td>26000</td>\n",
       "      <td>12600.0</td>\n",
       "    </tr>\n",
       "    <tr>\n",
       "      <th>2</th>\n",
       "      <td>Club du 3ème âge</td>\n",
       "      <td>2460526.0</td>\n",
       "      <td>2460525.0</td>\n",
       "      <td>3245934.0</td>\n",
       "      <td>3258534.0</td>\n",
       "      <td>49.211872</td>\n",
       "      <td>-0.378057</td>\n",
       "      <td>Organisation à but non lucratif</td>\n",
       "      <td>14000</td>\n",
       "      <td>12600.0</td>\n",
       "    </tr>\n",
       "    <tr>\n",
       "      <th>3</th>\n",
       "      <td>Grand débat national GAGNY</td>\n",
       "      <td>2980646.0</td>\n",
       "      <td>2980646.0</td>\n",
       "      <td>3523134.0</td>\n",
       "      <td>3530334.0</td>\n",
       "      <td>48.894931</td>\n",
       "      <td>2.538318</td>\n",
       "      <td>Organisation à but non lucratif</td>\n",
       "      <td>93220</td>\n",
       "      <td>7200.0</td>\n",
       "    </tr>\n",
       "    <tr>\n",
       "      <th>4</th>\n",
       "      <td>débat sur l'organisation de l'Etat et des serv...</td>\n",
       "      <td>2036612.0</td>\n",
       "      <td>2036612.0</td>\n",
       "      <td>4217934.0</td>\n",
       "      <td>4225134.0</td>\n",
       "      <td>47.122187</td>\n",
       "      <td>6.197913</td>\n",
       "      <td>Élu / élue et Institution</td>\n",
       "      <td>25580</td>\n",
       "      <td>7200.0</td>\n",
       "    </tr>\n",
       "  </tbody>\n",
       "</table>\n",
       "</div>"
      ],
      "text/plain": [
       "                                               title  createdAt  updatedAt  \\\n",
       "0  Réunion à la participation citoyenne pour le G...   140384.0  3516403.0   \n",
       "1                        Grand débat des entreprises  2036612.0  2036612.0   \n",
       "2                                   Club du 3ème âge  2460526.0  2460525.0   \n",
       "3                         Grand débat national GAGNY  2980646.0  2980646.0   \n",
       "4  débat sur l'organisation de l'Etat et des serv...  2036612.0  2036612.0   \n",
       "\n",
       "     startAt      endAt        lat       lng                       authorType  \\\n",
       "0  3953334.0  3969534.0  43.620069  1.470152        Élu / élue et Institution   \n",
       "1  4126134.0  4138734.0  44.988127  4.976960        Élu / élue et Institution   \n",
       "2  3245934.0  3258534.0  49.211872 -0.378057  Organisation à but non lucratif   \n",
       "3  3523134.0  3530334.0  48.894931  2.538318  Organisation à but non lucratif   \n",
       "4  4217934.0  4225134.0  47.122187  6.197913        Élu / élue et Institution   \n",
       "\n",
       "   authorZipCode  duration  \n",
       "0          31500   16200.0  \n",
       "1          26000   12600.0  \n",
       "2          14000   12600.0  \n",
       "3          93220    7200.0  \n",
       "4          25580    7200.0  "
      ]
     },
     "execution_count": 59,
     "metadata": {},
     "output_type": "execute_result"
    }
   ],
   "source": [
    "events_new.head()"
   ]
  },
  {
   "cell_type": "code",
   "execution_count": null,
   "metadata": {},
   "outputs": [],
   "source": [
    "# transform titles to vectors of words\n",
    "# a clustering with vectors of words"
   ]
  },
  {
   "cell_type": "code",
   "execution_count": 8,
   "metadata": {
    "scrolled": true
   },
   "outputs": [
    {
     "name": "stderr",
     "output_type": "stream",
     "text": [
      "/home/pepper/Documents/WorkSpace/python3environment/lib/python3.6/site-packages/sklearn/feature_extraction/text.py:301: UserWarning: Your stop_words may be inconsistent with your preprocessing. Tokenizing the stop words generated tokens ['``', 'alor', 'aur', 'aurion', 'auron', 'auss', 'autr', 'avi', 'avion', 'avon', 'ayon', 'cec', 'cel', 'chaqu', 'comm', 'dan', 'dedan', 'dehor', 'devr', 'devrion', 'devron', 'droit', 'e', 'encor', 'euss', 'eussion', 'eûm', 'fair', 'forc', 'fuss', 'fussion', 'fûm', 'hor', 'just', 'mainten', 'moin', 'mêm', 'nomm', 'notr', 'parc', 'parol', 'person', 'san', 'ser', 'serion', 'seron', 'seul', 'somm', 'soyon', 'tand', 'tel', 'tres', 'votr', 'éti', 'étion', 'ête'] not in stop_words.\n",
      "  'stop_words.' % sorted(inconsistent))\n"
     ]
    },
    {
     "name": "stdout",
     "output_type": "stream",
     "text": [
      "0 : débat, grand, démocrat, citoyennet, public, national, fiscal, servic, organis, dan, dépens, franc, ’, publiqu, parol, particip, conseil, ``, ateli, jeun, '', commun, contribu, déput, them\n",
      "1 : national, débat, grand, contribu, parol, particip, rencontr, organis, ateli, vill, dan, saint, commun, publiqu, franc, citoyennet, ’, reunion, démocrat, d'échang, them, caf, servic, fiscal, 4\n",
      "2 : citoyen, débat, grand, réunion, rencontr, national, consult, concert, parol, organis, caf, ateli, saint, déput, particip, dan, démocrat, local, échang, cadr, collect, contribu, reunion, conseil, proposit\n",
      "3 : débat, grand, franc, particip, débattr, démocrat, dépens, déput, développ, echang, ecolog, ensembl, entre, ’, entrepris, jaun, fair, famill, femm, fiscal, févri, gilet, habit, handicap, exprim\n",
      "4 : local, d'initi, réunion, débat, grand, national, reunion, citoyen, cadr, dan, initi, démocrat, organis, publiqu, saint, déput, citoyennet, debat, vill, propos, commun, quarti, ’, écolog, transit\n",
      "5 : debat, grand, national, citoyen, reunion, public, saint, publiqu, commun, rencontr, dan, st, consult, organis, particip, local, 2, ateli, cadr, paris, contribu, them, réunion, proposit, pay\n",
      "6 : réunion, publiqu, grand, débat, national, d'échang, cadr, dan, organis, '', ``, concert, mair, commun, autour, saint, déput, citoyen, dépens, présenc, pay, vill, them, fiscal, févri\n",
      "7 : transit, écolog, ecolog, débat, énerget, grand, dan, national, them, fiscal, démocrat, réunion, social, citoyennet, local, ateli, autour, citoyen, publiqu, solut, proposit, contribu, dépens, territoir, d'échang\n"
     ]
    }
   ],
   "source": [
    "\"\"\"\n",
    "Keams text clustering with TF-IDF features\n",
    "\"\"\"\n",
    "\n",
    "from sklearn.feature_extraction.text import TfidfVectorizer\n",
    "from nltk.corpus import stopwords\n",
    "from nltk.tokenize import word_tokenize\n",
    "from nltk.stem.snowball import FrenchStemmer\n",
    "import string\n",
    "import stop_words\n",
    "from sklearn.cluster import KMeans\n",
    "\n",
    "def get_stop_words():\n",
    "    custom_stop_words = set(stopwords.words('french') +\n",
    "                            list(string.punctuation) +\n",
    "                            stop_words.get_stop_words('fr'))\n",
    "    return custom_stop_words\n",
    "\n",
    "\n",
    "def tokenize(text):\n",
    "    stemmer = FrenchStemmer()\n",
    "    words_temp = word_tokenize(text, language='french')\n",
    "    wordss = [stemmer.stem(word) for word in words_temp]\n",
    "    return wordss\n",
    "\n",
    "answers = events_new['title']\n",
    "answers = answers.str.lower()\n",
    "answers = answers.values.tolist()\n",
    "\n",
    "\n",
    "custom_stop_words = get_stop_words()\n",
    "vectorizer = TfidfVectorizer(stop_words=custom_stop_words,\n",
    "                            tokenizer=tokenize,\n",
    "                            max_features=100)\n",
    "\n",
    "X = vectorizer.fit_transform(answers)\n",
    "words = vectorizer.get_feature_names()\n",
    "\n",
    "\n",
    "kmeans = KMeans(n_clusters=8, n_init=20)\n",
    "kmeans.fit(X)\n",
    "\n",
    "    # Finally, we look at the clusters generated by k-means.\n",
    "common_words = kmeans.cluster_centers_.argsort()[:, -1:-26:-1]\n",
    "for num, centroid in enumerate(common_words):\n",
    "    print(str(num) + ' : ' + ', '.join(words[word] for word in centroid))"
   ]
  },
  {
   "cell_type": "code",
   "execution_count": null,
   "metadata": {},
   "outputs": [],
   "source": [
    "# TODO transform authorType to onehot code"
   ]
  },
  {
   "cell_type": "code",
   "execution_count": 9,
   "metadata": {
    "scrolled": true
   },
   "outputs": [
    {
     "name": "stdout",
     "output_type": "stream",
     "text": [
      "['Élu / élue et Institution' 'Élu / élue et Institution'\n",
      " 'Organisation à but non lucratif' ... 'Organisation à but non lucratif'\n",
      " 'Citoyen / Citoyenne' 'Élu / élue et Institution']\n",
      "[3 3 2 ... 2 0 3]\n",
      "[[0. 0. 0. 1.]\n",
      " [0. 0. 0. 1.]\n",
      " [0. 0. 1. 0.]\n",
      " ...\n",
      " [0. 0. 1. 0.]\n",
      " [1. 0. 0. 0.]\n",
      " [0. 0. 0. 1.]]\n"
     ]
    },
    {
     "name": "stderr",
     "output_type": "stream",
     "text": [
      "/home/pepper/Documents/WorkSpace/python3environment/lib/python3.6/site-packages/sklearn/preprocessing/_encoders.py:371: FutureWarning: The handling of integer data will change in version 0.22. Currently, the categories are determined based on the range [0, max(values)], while in the future they will be determined based on the unique values.\n",
      "If you want the future behaviour and silence this warning, you can specify \"categories='auto'\".\n",
      "In case you used a LabelEncoder before this OneHotEncoder to convert the categories to integers, then you can now use the OneHotEncoder directly.\n",
      "  warnings.warn(msg, FutureWarning)\n"
     ]
    }
   ],
   "source": [
    "from sklearn.preprocessing import LabelEncoder\n",
    "from sklearn.preprocessing import OneHotEncoder\n",
    "events_new = events_new.dropna(subset=[\"authorType\"]) \n",
    "\n",
    "authorType = np.array(events_new['authorType'])\n",
    "print(authorType)\n",
    "# integer encode\n",
    "label_encoder = LabelEncoder()\n",
    "integer_encoded = label_encoder.fit_transform(authorType)\n",
    "print(integer_encoded)\n",
    "# binary encode\n",
    "onehot_encoder = OneHotEncoder(sparse=False)\n",
    "integer_encoded = integer_encoded.reshape(len(integer_encoded), 1)\n",
    "onehot_encoded = onehot_encoder.fit_transform(integer_encoded)\n",
    "print(onehot_encoded)"
   ]
  },
  {
   "cell_type": "code",
   "execution_count": 10,
   "metadata": {},
   "outputs": [],
   "source": [
    "onehot_encoded = np.asarray(onehot_encoded)\n",
    "events_new = events_new.drop(\"authorType\", axis=1)\n",
    "events_new[\"authorType0\"] = onehot_encoded[:, 0]\n",
    "events_new[\"authorType1\"] = onehot_encoded[:, 1]\n",
    "events_new[\"authorType2\"] = onehot_encoded[:, 2]\n",
    "events_new[\"authorType3\"] = onehot_encoded[:, 3]"
   ]
  },
  {
   "cell_type": "code",
   "execution_count": 11,
   "metadata": {},
   "outputs": [
    {
     "data": {
      "text/html": [
       "<div>\n",
       "<style scoped>\n",
       "    .dataframe tbody tr th:only-of-type {\n",
       "        vertical-align: middle;\n",
       "    }\n",
       "\n",
       "    .dataframe tbody tr th {\n",
       "        vertical-align: top;\n",
       "    }\n",
       "\n",
       "    .dataframe thead th {\n",
       "        text-align: right;\n",
       "    }\n",
       "</style>\n",
       "<table border=\"1\" class=\"dataframe\">\n",
       "  <thead>\n",
       "    <tr style=\"text-align: right;\">\n",
       "      <th></th>\n",
       "      <th>title</th>\n",
       "      <th>createdAt</th>\n",
       "      <th>updatedAt</th>\n",
       "      <th>startAt</th>\n",
       "      <th>endAt</th>\n",
       "      <th>lat</th>\n",
       "      <th>lng</th>\n",
       "      <th>authorZipCode</th>\n",
       "      <th>duration</th>\n",
       "      <th>authorType0</th>\n",
       "      <th>authorType1</th>\n",
       "      <th>authorType2</th>\n",
       "      <th>authorType3</th>\n",
       "    </tr>\n",
       "  </thead>\n",
       "  <tbody>\n",
       "    <tr>\n",
       "      <th>0</th>\n",
       "      <td>Réunion à la participation citoyenne pour le G...</td>\n",
       "      <td>140384.0</td>\n",
       "      <td>3516403.0</td>\n",
       "      <td>3953334.0</td>\n",
       "      <td>3969534.0</td>\n",
       "      <td>43.620069</td>\n",
       "      <td>1.470152</td>\n",
       "      <td>31500</td>\n",
       "      <td>16200.0</td>\n",
       "      <td>0.0</td>\n",
       "      <td>0.0</td>\n",
       "      <td>0.0</td>\n",
       "      <td>1.0</td>\n",
       "    </tr>\n",
       "    <tr>\n",
       "      <th>1</th>\n",
       "      <td>Grand débat des entreprises</td>\n",
       "      <td>2036612.0</td>\n",
       "      <td>2036612.0</td>\n",
       "      <td>4126134.0</td>\n",
       "      <td>4138734.0</td>\n",
       "      <td>44.988127</td>\n",
       "      <td>4.976960</td>\n",
       "      <td>26000</td>\n",
       "      <td>12600.0</td>\n",
       "      <td>0.0</td>\n",
       "      <td>0.0</td>\n",
       "      <td>0.0</td>\n",
       "      <td>1.0</td>\n",
       "    </tr>\n",
       "    <tr>\n",
       "      <th>2</th>\n",
       "      <td>Club du 3ème âge</td>\n",
       "      <td>2460526.0</td>\n",
       "      <td>2460525.0</td>\n",
       "      <td>3245934.0</td>\n",
       "      <td>3258534.0</td>\n",
       "      <td>49.211872</td>\n",
       "      <td>-0.378057</td>\n",
       "      <td>14000</td>\n",
       "      <td>12600.0</td>\n",
       "      <td>0.0</td>\n",
       "      <td>0.0</td>\n",
       "      <td>1.0</td>\n",
       "      <td>0.0</td>\n",
       "    </tr>\n",
       "    <tr>\n",
       "      <th>3</th>\n",
       "      <td>Grand débat national GAGNY</td>\n",
       "      <td>2980646.0</td>\n",
       "      <td>2980646.0</td>\n",
       "      <td>3523134.0</td>\n",
       "      <td>3530334.0</td>\n",
       "      <td>48.894931</td>\n",
       "      <td>2.538318</td>\n",
       "      <td>93220</td>\n",
       "      <td>7200.0</td>\n",
       "      <td>0.0</td>\n",
       "      <td>0.0</td>\n",
       "      <td>1.0</td>\n",
       "      <td>0.0</td>\n",
       "    </tr>\n",
       "    <tr>\n",
       "      <th>4</th>\n",
       "      <td>débat sur l'organisation de l'Etat et des serv...</td>\n",
       "      <td>2036612.0</td>\n",
       "      <td>2036612.0</td>\n",
       "      <td>4217934.0</td>\n",
       "      <td>4225134.0</td>\n",
       "      <td>47.122187</td>\n",
       "      <td>6.197913</td>\n",
       "      <td>25580</td>\n",
       "      <td>7200.0</td>\n",
       "      <td>0.0</td>\n",
       "      <td>0.0</td>\n",
       "      <td>0.0</td>\n",
       "      <td>1.0</td>\n",
       "    </tr>\n",
       "  </tbody>\n",
       "</table>\n",
       "</div>"
      ],
      "text/plain": [
       "                                               title  createdAt  updatedAt  \\\n",
       "0  Réunion à la participation citoyenne pour le G...   140384.0  3516403.0   \n",
       "1                        Grand débat des entreprises  2036612.0  2036612.0   \n",
       "2                                   Club du 3ème âge  2460526.0  2460525.0   \n",
       "3                         Grand débat national GAGNY  2980646.0  2980646.0   \n",
       "4  débat sur l'organisation de l'Etat et des serv...  2036612.0  2036612.0   \n",
       "\n",
       "     startAt      endAt        lat       lng  authorZipCode  duration  \\\n",
       "0  3953334.0  3969534.0  43.620069  1.470152          31500   16200.0   \n",
       "1  4126134.0  4138734.0  44.988127  4.976960          26000   12600.0   \n",
       "2  3245934.0  3258534.0  49.211872 -0.378057          14000   12600.0   \n",
       "3  3523134.0  3530334.0  48.894931  2.538318          93220    7200.0   \n",
       "4  4217934.0  4225134.0  47.122187  6.197913          25580    7200.0   \n",
       "\n",
       "   authorType0  authorType1  authorType2  authorType3  \n",
       "0          0.0          0.0          0.0          1.0  \n",
       "1          0.0          0.0          0.0          1.0  \n",
       "2          0.0          0.0          1.0          0.0  \n",
       "3          0.0          0.0          1.0          0.0  \n",
       "4          0.0          0.0          0.0          1.0  "
      ]
     },
     "execution_count": 11,
     "metadata": {},
     "output_type": "execute_result"
    }
   ],
   "source": [
    "events_new.head()"
   ]
  },
  {
   "cell_type": "markdown",
   "metadata": {},
   "source": [
    "### 5. Normalization and Standarlization"
   ]
  },
  {
   "cell_type": "code",
   "execution_count": null,
   "metadata": {},
   "outputs": [],
   "source": [
    "from sklearn.preprocessing import StandardScaler\n",
    " scaler = StandardScaler() \n",
    "scaled_data = scaler.fit_transform(data)"
   ]
  },
  {
   "cell_type": "code",
   "execution_count": null,
   "metadata": {},
   "outputs": [],
   "source": []
  },
  {
   "cell_type": "markdown",
   "metadata": {},
   "source": [
    "### not used for now"
   ]
  },
  {
   "cell_type": "code",
   "execution_count": null,
   "metadata": {},
   "outputs": [],
   "source": [
    "import pathlib\n",
    "import itertools\n",
    "import string\n",
    "from collections import Counter\n",
    "from nltk.corpus import stopwords\n",
    "from nltk.tokenize import word_tokenize\n",
    "from stop_words import get_stop_words\n",
    "import matplotlib.pyplot as plt\n",
    "\n",
    "\n",
    "\n",
    "\n",
    "def get_responses(df: pd.DataFrame):\n",
    "    \"\"\" Extract responses and return a pd.DataFrame\n",
    "    with columns: authorId, questionId, formattedValue\n",
    "\n",
    "    Args:\n",
    "        df: dataframe from read_data\n",
    "\n",
    "    Returns:\n",
    "        pd.DataFrame with responses\n",
    "    \"\"\"\n",
    "    responses = []\n",
    "    for i, x in df.iterrows():\n",
    "        df_tmp = (pd.DataFrame(x.responses).\n",
    "                  filter(['questionId', 'formattedValue']).\n",
    "                  assign(authorId=x.authorId))\n",
    "        responses.append(df_tmp)\n",
    "\n",
    "    return pd.concat(responses, ignore_index=True)\n",
    "\n",
    "def extract_responses_by_id(responses: list, key: str='138'):\n",
    "    \"\"\" Extract a specific question\n",
    "\n",
    "    Args:\n",
    "        responses: list (example df.iloc[0].responses)\n",
    "        key: questionId (example '142')\n",
    "\n",
    "    Returns:\n",
    "        responses as a string\n",
    "    \"\"\"\n",
    "\n",
    "    response = [x['formattedValue'] for x in responses\n",
    "                if x['questionId'] == key]\n",
    "    if len(response):\n",
    "        return response[0]\n",
    "    else:\n",
    "        return None\n",
    "\n",
    "def find_most_common_words(df: pd.DataFrame, featurename: str):\n",
    "    x = df[featurename]\n",
    "    answers = x.formattedValue.values.tolist()\n",
    "    answers = ' '.join(answers)\n",
    "    answers = answers.lower()\n",
    "\n",
    "    stop_words = set(stopwords.words('french') +\n",
    "                     list(string.punctuation) +\n",
    "                     get_stop_words('fr'))\n",
    "    word_tokens = word_tokenize(answers, language='french')\n",
    "\n",
    "    words = [x for x in word_tokens if x not in stop_words]\n",
    "\n",
    "    cnt = Counter(words)\n",
    "    cnt.most_common(20)\n",
    "\n"
   ]
  },
  {
   "cell_type": "markdown",
   "metadata": {},
   "source": [
    "## Step 2 - Supervised Learning, Prediction"
   ]
  },
  {
   "cell_type": "code",
   "execution_count": null,
   "metadata": {},
   "outputs": [],
   "source": []
  }
 ],
 "metadata": {
  "kernelspec": {
   "display_name": "Python 3",
   "language": "python",
   "name": "python3"
  },
  "language_info": {
   "codemirror_mode": {
    "name": "ipython",
    "version": 3
   },
   "file_extension": ".py",
   "mimetype": "text/x-python",
   "name": "python",
   "nbconvert_exporter": "python",
   "pygments_lexer": "ipython3",
   "version": "3.6.7"
  }
 },
 "nbformat": 4,
 "nbformat_minor": 2
}
